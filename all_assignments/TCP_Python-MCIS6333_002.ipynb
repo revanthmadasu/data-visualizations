{
  "metadata": {
    "language_info": {
      "codemirror_mode": {
        "name": "python",
        "version": 3
      },
      "file_extension": ".py",
      "mimetype": "text/x-python",
      "name": "python",
      "nbconvert_exporter": "python",
      "pygments_lexer": "ipython3",
      "version": "3.8"
    },
    "kernelspec": {
      "name": "python",
      "display_name": "Python (Pyodide)",
      "language": "python"
    }
  },
  "nbformat_minor": 4,
  "nbformat": 4,
  "cells": [
    {
      "cell_type": "code",
      "source": "# Team, insert the required components wherever indicated below on the raw, original version of this Python codebook .ipynb file.",
      "metadata": {},
      "execution_count": null,
      "outputs": []
    },
    {
      "cell_type": "code",
      "source": "# TCP_Python-MCIS6333_001",
      "metadata": {},
      "execution_count": null,
      "outputs": []
    },
    {
      "cell_type": "code",
      "source": "# Data Visualization Programming Team Course Project\n# [INSERT YOUR USE CASE CLIET NAME]\n# [INSERT YOUR USE CASE SUBJECT (this is either a product or service; for example: Food and Beverage Stands)]",
      "metadata": {},
      "execution_count": null,
      "outputs": []
    },
    {
      "cell_type": "code",
      "source": "# Created by:\n# [INSERT YOUR TEAM #]\n# [INSERT YOUR TEAM NAME]\n# [INSERT FULL NAME OF TEAM MEMBER HERE]\n# [INSERT FULL NAME OF TEAM MEMBER HERE]\n# [INSERT FULL NAME OF TEAM MEMBER HERE]\n# [IF YOU HAVE LESS THAN THREE TEAM MEMBERS, IT IS OKAY TO DELETE THE EXTRA NAME HOLDERS FROM ABOVE AND THIS LINE]",
      "metadata": {},
      "execution_count": null,
      "outputs": []
    },
    {
      "cell_type": "code",
      "source": "# Created for Dr. Esther Mead, SAU Fall 2023",
      "metadata": {},
      "execution_count": null,
      "outputs": []
    },
    {
      "cell_type": "code",
      "source": "# Created November 2, 2023",
      "metadata": {},
      "execution_count": null,
      "outputs": []
    },
    {
      "cell_type": "code",
      "source": "#========================SECTION SEPARATOR",
      "metadata": {},
      "execution_count": null,
      "outputs": []
    },
    {
      "cell_type": "code",
      "source": "# Student team, below this section, insert all code for data processing and data visualization (DV) that you used for any and all DVs that you created in Python and inserted into your TCP OPR/PRES (you must have at least one Python DV and no more than 9 Python DVs).\n# You must include all Python code below that in necessary to recreate your DVs within the Python web-based development environment (JupyerLite): https://jupyter.org/try-jupyter/lab/\n# You must also insert optimized Python code documentation lines throughout this notebook.\n# Read the TCP Grading Rubric on Blackboard to prevent irreversible point penalties.\n# Point penalties will be applied to all teams equally and are non-negotiable. All teams are treated equally.",
      "metadata": {
        "trusted": true
      },
      "execution_count": null,
      "outputs": []
    },
    {
      "cell_type": "code",
      "source": "#========================SECTION SEPARATOR",
      "metadata": {},
      "execution_count": null,
      "outputs": []
    },
    {
      "cell_type": "code",
      "source": "",
      "metadata": {},
      "execution_count": null,
      "outputs": []
    }
  ]
}