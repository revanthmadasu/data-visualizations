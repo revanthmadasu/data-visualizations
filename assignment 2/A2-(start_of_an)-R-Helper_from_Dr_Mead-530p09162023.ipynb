{
  "metadata": {
    "language_info": {
      "codemirror_mode": {
        "name": "python",
        "version": 3
      },
      "file_extension": ".py",
      "mimetype": "text/x-python",
      "name": "python",
      "nbconvert_exporter": "python",
      "pygments_lexer": "ipython3",
      "version": "3.8"
    },
    "kernelspec": {
      "name": "python",
      "display_name": "Python (Pyodide)",
      "language": "python"
    }
  },
  "nbformat_minor": 4,
  "nbformat": 4,
  "cells": [
    {
      "cell_type": "code",
      "source": "# This isn't something that I normally do, but here is a helper file I've started to make for you for the R version of your A2 where you try to create a line graph to show data change over time. - Dr. Mead - 09162023",
      "metadata": {},
      "execution_count": null,
      "outputs": []
    },
    {
      "cell_type": "code",
      "source": "# I'm out of time, but I can try to get some more time later if you can't find some definitave R code answers online...",
      "metadata": {},
      "execution_count": null,
      "outputs": []
    },
    {
      "cell_type": "code",
      "source": "",
      "metadata": {},
      "execution_count": null,
      "outputs": []
    },
    {
      "cell_type": "code",
      "source": "# Goal, try to do the same thing in R that I gave you in the A2 Python Helper that I made for you.\n# You can search Google for documentation for each of the same things that you did in Python, such as \"R Get a list of the sheet names in an excel file\"\n# I started some gathering some below but I haven't tested any of it yet.",
      "metadata": {},
      "execution_count": null,
      "outputs": []
    },
    {
      "cell_type": "code",
      "source": "# R Get a list of the sheet names in an excel file\ninstall.packages(\"readxl\")                             # Install & load readxl package\nlibrary(\"readxl\")\nsheet_names <- excel_sheets(\"data_all.xlsx\")           # Get sheet names\nsheet_names                                            # Print sheet names\n# [1] \"Sheet1\" \"Sheet2\" \"Sheet3\"",
      "metadata": {},
      "execution_count": null,
      "outputs": []
    },
    {
      "cell_type": "code",
      "source": "# R merge M1 and M2 on ID\nM1_M2 <- merge(M1_Data, M2_Data, by = c(\"ID\"))       # Applying merge() function\nM1_M2 ",
      "metadata": {},
      "execution_count": null,
      "outputs": []
    },
    {
      "cell_type": "code",
      "source": "# R create new data frame with just Age and Date\nAge_Date = data.frame(M1_M2$Date,M1_M2$Q4)",
      "metadata": {},
      "execution_count": null,
      "outputs": []
    },
    {
      "cell_type": "code",
      "source": "# R group the new data frame by date and the average age\naggregate(Age_Date[\"Q4\"], by=Age_Date[\"Date\"], mean)",
      "metadata": {},
      "execution_count": null,
      "outputs": []
    },
    {
      "cell_type": "code",
      "source": "# I ran out of time here.\n# I wrote this in an .ipynb for the sake of time; just open it up in JupyterLite and then copy and paste it into RStudio Cloud and let me know if an of it works --Dr. Mead",
      "metadata": {},
      "execution_count": null,
      "outputs": []
    },
    {
      "cell_type": "code",
      "source": "",
      "metadata": {},
      "execution_count": null,
      "outputs": []
    }
  ]
}