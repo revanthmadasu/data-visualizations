{
  "metadata": {
    "language_info": {
      "codemirror_mode": {
        "name": "python",
        "version": 3
      },
      "file_extension": ".py",
      "mimetype": "text/x-python",
      "name": "python",
      "nbconvert_exporter": "python",
      "pygments_lexer": "ipython3",
      "version": "3.8"
    },
    "kernelspec": {
      "name": "python",
      "display_name": "Python (Pyodide)",
      "language": "python"
    }
  },
  "nbformat_minor": 4,
  "nbformat": 4,
  "cells": [
    {
      "cell_type": "code",
      "source": "# insert code to import all of your necessary libraries and data. (remember the Code Helper files I posted on Bb?)",
      "metadata": {},
      "execution_count": null,
      "outputs": []
    },
    {
      "cell_type": "code",
      "source": "# Example of making a histogram using one of your use case datasets that I chose at random.\n# In this case, Q12 is the \"How frequently do you watch TV per day?\" variable.\n# I need to know what the range of response option numeric codes are for the Q12 variable, so:\nresponse_options = [(df[\"Q12\"].max() - df[\"Q12\"].min())]\nresponse_options # running this line gives me the answer in output below",
      "metadata": {},
      "execution_count": null,
      "outputs": []
    },
    {
      "cell_type": "code",
      "source": "# I then take that answer for what the range of numeric response options for Q12 is and assign it to a variable that I can use later.\nresponse_options_range = 5",
      "metadata": {},
      "execution_count": null,
      "outputs": []
    },
    {
      "cell_type": "code",
      "source": "# Example of making a histogram using one of your use case datasets that I chose at random\n# In this case, Q12 is the \"How frequently do you watch TV per day?\" variable.\nimport seaborn as sns\nfrom matplotlib import pyplot as plt\nplt.rcParams[\"figure.figsize\"] = [7.00, 3.50]\nplt.rcParams[\"figure.autolayout\"] = True\nxticks = [0, 1, 2, 3, 4, 5, 6, 7] # I created this list from looking in the Data Dictionary to see what the response options numeric codes were for Q12.\nax = sns.histplot(df[\"Q12\"], bins=range(response_options_range+1), ec=\"k\")\nax.set_xticks(xticks)\n# Make the DV show the response option labels instead of the numeric codes;\n# I created this list (below) from looking in the Data Dictionary to see what the response options labels were for each of the numeric codes for Q12:\nax.set_xticklabels([\"Never\", \"Less than 1 hour\", \"1 to almost 3 hours\", \"3 to almost 5 hours\", \"5 to almost 7 hours\", \"7 to almost 9 hours\", \"9 to almost 11 hours\", \"11 or more hours\"], rotation=15)\nplt.show()\n# insert code to customize the x-axis label such as \"Viewing Frequency Levels\".\n# insert code to customize the y-axis label to make it optimized such as \"Target Customer Count per Viewing Frequency Levels\"\n# insert code to add an optimized DV title such as \"\"How frequently do you watch TV per day?\"\n# customize yours further by experimenting with color from the URLs resources I provided in the M4 ipynb from CS6.",
      "metadata": {},
      "execution_count": null,
      "outputs": []
    }
  ]
}